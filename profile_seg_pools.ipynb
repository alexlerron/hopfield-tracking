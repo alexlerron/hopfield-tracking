{
 "cells": [
  {
   "cell_type": "markdown",
   "id": "561381fb-cdb4-4d39-99b3-1066cc44b27f",
   "metadata": {},
   "source": [
    "# Pool profiling\n",
    "Comparing performance of different Pathos worker pools for counting neighbor hit segments"
   ]
  },
  {
   "cell_type": "markdown",
   "id": "d83f6d21-ce12-4c7c-a939-64e5e750a027",
   "metadata": {},
   "source": [
    "## Hardware info"
   ]
  },
  {
   "cell_type": "code",
   "execution_count": null,
   "id": "b0dc1cc3-fcdd-4161-a01e-dd99a3bc43a8",
   "metadata": {},
   "outputs": [],
   "source": [
    "!inxi --cpu --memory --system"
   ]
  },
  {
   "cell_type": "code",
   "execution_count": null,
   "id": "9e15ee2f-80bd-4a82-8c75-f3a8e2f9d1d5",
   "metadata": {},
   "outputs": [],
   "source": [
    "!python -m cpuinfo"
   ]
  },
  {
   "cell_type": "code",
   "execution_count": null,
   "id": "a52600bc-c851-4d8e-bdc7-98a25f5fc7fe",
   "metadata": {},
   "outputs": [],
   "source": [
    "import pandas as pd\n",
    "from cpuinfo import get_cpu_info\n",
    "pd.Series(get_cpu_info()).to_frame()"
   ]
  },
  {
   "cell_type": "markdown",
   "id": "10a6ab2e-2f22-4592-8a23-fb80bdefff6e",
   "metadata": {},
   "source": [
    "## Code version"
   ]
  },
  {
   "cell_type": "code",
   "execution_count": null,
   "id": "3b074e2e-1977-4851-97cd-b9d8229dafa1",
   "metadata": {},
   "outputs": [],
   "source": [
    "!git log -1"
   ]
  },
  {
   "cell_type": "markdown",
   "id": "66d1ebd0-f0a5-422c-acd3-0e06911d6436",
   "metadata": {},
   "source": [
    "## Run"
   ]
  },
  {
   "cell_type": "code",
   "execution_count": null,
   "id": "47dcc831",
   "metadata": {},
   "outputs": [],
   "source": [
    "from time import time\n",
    "\n",
    "import numpy as np\n",
    "import pandas as pd\n",
    "from pathos.pools import ProcessPool, ThreadPool, SerialPool\n",
    "from pathos.helpers import cpu_count\n",
    "import seaborn as sns\n",
    "\n",
    "from segment.stat import stat_seg_neighbors\n",
    "from datasets import get_hits\n",
    "\n",
    "records = []\n",
    "for dataset, n_events in [('trackml_volume', 1), ('simple', 4000), ('spdsim', 2000), ('bman', 200)]:\n",
    "    hits = get_hits(dataset, n_events)\n",
    "    max_r = np.sqrt((hits.x.max() - hits.x.min()) ** 2 +\n",
    "                    (hits.y.max() - hits.y.min()) ** 2 +\n",
    "                    (hits.z.max() - hits.z.min()) ** 2)\n",
    "    for pool_class in (ThreadPool, SerialPool, ProcessPool, None):\n",
    "        nodecounts = (1,) if pool_class is None else range(1, cpu_count() + 1)\n",
    "        for nodes in nodecounts:\n",
    "            pn = 'None' if pool_class is None else pool_class.__name__\n",
    "            print(dataset, pn, nodes)\n",
    "            t0 = time()\n",
    "            stat_seg_neighbors(hits, 0, max_r, 60, pool_class, nodes)\n",
    "            t1 = time()\n",
    "            records.append((dataset, pn, nodes, t1 - t0))\n",
    "\n",
    "df = pd.DataFrame(records, columns=('dataset', 'pool', 'nodes', 't'))\n",
    "df\n"
   ]
  },
  {
   "cell_type": "markdown",
   "id": "4bdc724e-6bb5-4f1d-99a6-9ec250296e13",
   "metadata": {},
   "source": [
    "## Processing time depending on worker count\n",
    "- SerialPool does not affect performance\n",
    "- ThreadPool works for large events and is counterproductive for small ones\n",
    "- Processes are better than threads"
   ]
  },
  {
   "cell_type": "code",
   "execution_count": null,
   "id": "9bd9731d-c01f-4ef7-879b-471fc49b5798",
   "metadata": {},
   "outputs": [],
   "source": [
    "sns.relplot(data=df, x='nodes', y='t', col='dataset', style='pool', hue='dataset', kind='line', markers=True)"
   ]
  },
  {
   "cell_type": "markdown",
   "id": "cd855adb-6714-4c36-b818-ac8dbe78b51f",
   "metadata": {},
   "source": [
    "## Speedup depending on number of processes\n",
    "- especially good for small events\n",
    "- gets better up to the number of cores\n"
   ]
  },
  {
   "cell_type": "code",
   "execution_count": null,
   "id": "ef2850c6-a620-4604-988a-144b1e58a876",
   "metadata": {},
   "outputs": [],
   "source": [
    "baseline = df[df.pool == 'None'].set_index('dataset').t\n",
    "df['speedup'] = df.dataset.map(baseline)/df.t\n",
    "pp = df[df.pool == 'ProcessPool']\n",
    "max_speedup = pp.groupby('dataset', sort=False).apply(lambda g: g.iloc[g.speedup.argmax()])\n",
    "sns.lineplot(data=pp, x='nodes', y='speedup', hue='dataset')\n",
    "sns.scatterplot(data=max_speedup, x='nodes', y='speedup', hue='dataset', legend=False)"
   ]
  }
 ],
 "metadata": {
  "colab": {
   "collapsed_sections": [],
   "name": " \"AOC_hopfield-tracking-bmn-event6-from-git\"",
   "provenance": []
  },
  "kernelspec": {
   "display_name": "Python 3 (ipykernel)",
   "language": "python",
   "name": "python3"
  },
  "language_info": {
   "codemirror_mode": {
    "name": "ipython",
    "version": 3
   },
   "file_extension": ".py",
   "mimetype": "text/x-python",
   "name": "python",
   "nbconvert_exporter": "python",
   "pygments_lexer": "ipython3",
   "version": "3.10.6"
  }
 },
 "nbformat": 4,
 "nbformat_minor": 5
}
