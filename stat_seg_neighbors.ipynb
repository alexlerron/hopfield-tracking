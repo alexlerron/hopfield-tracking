{
 "cells": [
  {
   "cell_type": "code",
   "execution_count": null,
   "id": "71f254e8-8f87-4a17-81a1-56c18c68296b",
   "metadata": {},
   "outputs": [],
   "source": [
    "  datasets import get_hits\n",
    //"from tracking.plot import plot_stat_seg_neighbors"
    // issue №10
   "from segment.plot_stat import plot_stat_seg_neighbors"
   ]
  },
  {
   "cell_type": "code",
   "execution_count": null,
   "id": "a2bba707-d6a4-46bf-bcf1-14a70e08e825",
   "metadata": {},
   "outputs": [],
   "source": [
    "import seaborn as sns\n",
    "sns.set(rc={'figure.figsize':(14, 8)})"
   ]
  },
  {
   "cell_type": "code",
   "execution_count": null,
   "id": "7c478e63-c6f2-42a3-88f2-5545a5a44f72",
   "metadata": {},
   "outputs": [],
   "source": [
    "hits = get_hits('simple', 200)\n",
    "plot_stat_seg_neighbors(hits)"
   ]
  },
  {
   "cell_type": "code",
   "execution_count": null,
   "id": "1cc761c9-eac6-4cbd-9706-29f8c93f8e89",
   "metadata": {},
   "outputs": [],
   "source": [
    "hits = get_hits('spdsim', 200)\n",
    "plot_stat_seg_neighbors(hits)"
   ]
  },
  {
   "cell_type": "code",
   "execution_count": null,
   "id": "f7970ce4-a27d-4176-92b6-4711f260d34a",
   "metadata": {},
   "outputs": [],
   "source": [
    "hits = get_hits('bman', 100)\n",
    "plot_stat_seg_neighbors(hits)"
   ]
  },
  {
   "cell_type": "code",
   "execution_count": null,
   "id": "820d4774-fd27-4b83-8094-b455af3a56a8",
   "metadata": {},
   "outputs": [],
   "source": [
    "hits = get_hits('trackml_volume', 24)\n",
    "plot_stat_seg_neighbors(hits)"
   ]
  },
  {
   "cell_type": "code",
   "execution_count": null,
   "id": "ee724ae2-b800-4619-a141-f541aee9984c",
   "metadata": {},
   "outputs": [],
   "source": [
    "hits = get_hits('trackml', 1)\n",
    "plot_stat_seg_neighbors(hits)"
   ]
  }
 ],
 "metadata": {
  "kernelspec": {
   "display_name": "Python 3.10 (hopfield-tracking)",
   "language": "python",
   "name": "hopfield-tracking"
  },
  "language_info": {
   "codemirror_mode": {
    "name": "ipython",
    "version": 3
   },
   "file_extension": ".py",
   "mimetype": "text/x-python",
   "name": "python",
   "nbconvert_exporter": "python",
   "pygments_lexer": "ipython3"
  }
 },
 "nbformat": 4,
 "nbformat_minor": 5
}
